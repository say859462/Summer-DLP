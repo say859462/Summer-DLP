{
 "cells": [
  {
   "cell_type": "code",
   "execution_count": null,
   "id": "6800c316",
   "metadata": {},
   "outputs": [],
   "source": [
    "# Import Libs\n",
    "import matplotlib.pyplot as plt\n",
    "import numpy as np\n",
    "\n"
   ]
  },
  {
   "cell_type": "code",
   "execution_count": null,
   "id": "03073407",
   "metadata": {},
   "outputs": [],
   "source": [
    "# Functions to generate datasets\n",
    "\n",
    "\n",
    "def generate_linear(n=100):\n",
    "    import numpy as np\n",
    "    pts = np.random.uniform(0, 1, (n, 2))\n",
    "    inputs = []\n",
    "    labels = []\n",
    "    for pt in pts:\n",
    "        inputs.append([pt[0], pt[1]])\n",
    "        distance = (pt[0] - pt[1]) / 1.414\n",
    "        if pt[0] > pt[1]:\n",
    "            labels.append(0)\n",
    "        else:\n",
    "            labels.append(1)\n",
    "    return np.array(inputs), np.array(labels).reshape(n, 1)\n",
    "\n",
    "\n",
    "def generate_XOR_easy():\n",
    "    import numpy as np\n",
    "    inputs = []\n",
    "    labels = []\n",
    "\n",
    "    for i in range(11):\n",
    "        inputs.append([0.1 * i, 0.1 * i])\n",
    "        labels.append(0)\n",
    "\n",
    "        if 0.1 * i == 0.5:\n",
    "            continue\n",
    "\n",
    "        inputs.append([0.1 * i, 1 - 0.1 * i])\n",
    "        labels.append(1)\n",
    "\n",
    "    return np.array(inputs), np.array(labels).reshape(21, 1)"
   ]
  },
  {
   "cell_type": "code",
   "execution_count": 13,
   "id": "c555b3b3",
   "metadata": {},
   "outputs": [],
   "source": [
    "# Plot results\n",
    "\n",
    "def show_result(x,y,pred_y):\n",
    "    import matplotlib.pyplot as plt\n",
    "    plt.subplot(1,2,1)\n",
    "    plt.title('Ground Truth',fontsize=18)\n",
    "    for i in range(x.shape[0]):\n",
    "        if y[i] == 0:\n",
    "            plt.plot(x[i][0],x[i][1],'ro')\n",
    "        else:\n",
    "            plt.plot(x[i][0],x[i][1],'bo')\n",
    "    plt.subplot(1,2,2)\n",
    "    plt.title('Predict result',fontdict=18)\n",
    "\n",
    "    for i in range(x.shape[0]):\n",
    "        if pred_y[i] == 0:\n",
    "            plt.plot(x[i][0],x[i][1],'ro')\n",
    "        else:\n",
    "            plt.plot(x[i][0],x[i][1],'bo')\n",
    "\n",
    "    plt.show()\n"
   ]
  },
  {
   "cell_type": "code",
   "execution_count": null,
   "id": "f8d5f105",
   "metadata": {},
   "outputs": [
    {
     "name": "stdout",
     "output_type": "stream",
     "text": [
      "[[0.34256061]\n",
      " [0.95085028]\n",
      " [0.14740149]\n",
      " [0.11402011]\n",
      " [0.28265281]\n",
      " [0.11480027]\n",
      " [0.55311621]\n",
      " [0.06753801]\n",
      " [0.08898468]\n",
      " [0.68894206]]\n",
      "[[0.58481239]\n",
      " [0.72128614]\n",
      " [0.5367838 ]\n",
      " [0.52847419]\n",
      " [0.57019648]\n",
      " [0.52866859]\n",
      " [0.63485827]\n",
      " [0.51687809]\n",
      " [0.5222315 ]\n",
      " [0.66573154]]\n"
     ]
    }
   ],
   "source": [
    "# Activative functions and their derivatives\n",
    "def sigmoid(x):\n",
    "    return 1.0 / (1.0 + np.exp(-x))\n",
    "\n",
    "\n",
    "def derivative_sigmoid(x):\n",
    "    return np.multiply(x, 1.0 - x)\n",
    "\n",
    "\n",
    "x = np.random.uniform(0, 1, (10, 1))\n",
    "\n",
    "# Function mapping\n",
    "activation_map = {\n",
    "    \"sigmoid\": sigmoid\n",
    "}"
   ]
  },
  {
   "cell_type": "code",
   "execution_count": null,
   "id": "8d5d4ff4",
   "metadata": {},
   "outputs": [],
   "source": [
    "class Linear_Layer:\n",
    "\n",
    "    def __init__(self, input_size, output_size,activation = \"sigmoid\"):\n",
    "\n",
    "        # we should check the activation function is in the activation_map\n",
    "        # we use sigmoid as default activation function\n",
    "        if activation not in activation_map:\n",
    "            activation = \"sigmoid\"\n",
    "\n",
    "        self.input_size = input_size\n",
    "        self.output_size = output_size\n",
    "        # Initialize weights and bias (W , b)\n",
    "        # Assume that the size of input vector is  n by 1\n",
    "        # The size of weight matrix should be m by n, where m is the size of output vector\n",
    "\n",
    "        # According to the guide that TA provided, the initial weights often use a small random value\n",
    "\n",
    "        self.weights = np.random.randn(output_size, input_size) * 0.01\n",
    "        self.bias = np.zeros((output_size, 1))\n",
    "        self.input = None\n",
    "\n",
    "    #   Forward pass: y = Wx + b\n",
    "    #   Ｒegular training process\n",
    "    def forward(self, x):\n",
    "        self.input = x\n",
    "        return self.activation(np.matmul(self.weights, x) + self.bias)\n",
    "\n",
    "    def backward(self, grad_output):\n",
    "        grad_input = np.dot(grad_output, self.weights.T)\n",
    "        grad_weights = np.dot(self.input.T, grad_output)\n",
    "        grad_bias = np.sum(grad_output, axis=0, keepdims=True)\n",
    "\n",
    "        # Update weights and bias\n",
    "        self.weights -= 0.01 * grad_weights\n",
    "        self.bias -= 0.01 * grad_bias\n",
    "\n",
    "        return grad_input\n"
   ]
  },
  {
   "cell_type": "code",
   "execution_count": null,
   "id": "c8b03bbf",
   "metadata": {},
   "outputs": [
    {
     "name": "stdout",
     "output_type": "stream",
     "text": [
      "[[ 0.54510296 -0.51411106]\n",
      " [ 0.11259701  0.09565303]]\n"
     ]
    }
   ],
   "source": []
  }
 ],
 "metadata": {
  "kernelspec": {
   "display_name": "Summer_NYCU_2025_DLP",
   "language": "python",
   "name": "python3"
  },
  "language_info": {
   "codemirror_mode": {
    "name": "ipython",
    "version": 3
   },
   "file_extension": ".py",
   "mimetype": "text/x-python",
   "name": "python",
   "nbconvert_exporter": "python",
   "pygments_lexer": "ipython3",
   "version": "3.11.0"
  }
 },
 "nbformat": 4,
 "nbformat_minor": 5
}

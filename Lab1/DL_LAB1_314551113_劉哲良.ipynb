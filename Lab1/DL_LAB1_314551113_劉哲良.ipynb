{
 "cells": [
  {
   "cell_type": "markdown",
   "id": "57bdee5e",
   "metadata": {},
   "source": [
    "Reference \n",
    "https://mycollegenotebook.medium.com/backpropagation-algorithm-%E5%8F%8D%E5%90%91%E5%82%B3%E6%92%AD%E6%BC%94%E7%AE%97%E6%B3%95-b6800c015044\n"
   ]
  },
  {
   "cell_type": "code",
   "execution_count": null,
   "id": "6800c316",
   "metadata": {},
   "outputs": [],
   "source": [
    "# Import Libs\n",
    "import matplotlib.pyplot as plt\n",
    "import numpy as np\n",
    "\n"
   ]
  },
  {
   "cell_type": "code",
   "execution_count": null,
   "id": "03073407",
   "metadata": {},
   "outputs": [],
   "source": [
    "# Functions to generate datasets\n",
    "\n",
    "\n",
    "def generate_linear(n=100):\n",
    "    import numpy as np\n",
    "    pts = np.random.uniform(0, 1, (n, 2))\n",
    "    inputs = []\n",
    "    labels = []\n",
    "    for pt in pts:\n",
    "        inputs.append([pt[0], pt[1]])\n",
    "        distance = (pt[0] - pt[1]) / 1.414\n",
    "        if pt[0] > pt[1]:\n",
    "            labels.append(0)\n",
    "        else:\n",
    "            labels.append(1)\n",
    "    return np.array(inputs), np.array(labels).reshape(n, 1)\n",
    "\n",
    "\n",
    "def generate_XOR_easy():\n",
    "    import numpy as np\n",
    "    inputs = []\n",
    "    labels = []\n",
    "\n",
    "    for i in range(11):\n",
    "        inputs.append([0.1 * i, 0.1 * i])\n",
    "        labels.append(0)\n",
    "\n",
    "        if 0.1 * i == 0.5:\n",
    "            continue\n",
    "\n",
    "        inputs.append([0.1 * i, 1 - 0.1 * i])\n",
    "        labels.append(1)\n",
    "\n",
    "    return np.array(inputs), np.array(labels).reshape(21, 1)"
   ]
  },
  {
   "cell_type": "code",
   "execution_count": 13,
   "id": "c555b3b3",
   "metadata": {},
   "outputs": [],
   "source": [
    "# Plot results\n",
    "\n",
    "def show_result(x,y,pred_y):\n",
    "    import matplotlib.pyplot as plt\n",
    "    plt.subplot(1,2,1)\n",
    "    plt.title('Ground Truth',fontsize=18)\n",
    "    for i in range(x.shape[0]):\n",
    "        if y[i] == 0:\n",
    "            plt.plot(x[i][0],x[i][1],'ro')\n",
    "        else:\n",
    "            plt.plot(x[i][0],x[i][1],'bo')\n",
    "    plt.subplot(1,2,2)\n",
    "    plt.title('Predict result',fontdict=18)\n",
    "\n",
    "    for i in range(x.shape[0]):\n",
    "        if pred_y[i] == 0:\n",
    "            plt.plot(x[i][0],x[i][1],'ro')\n",
    "        else:\n",
    "            plt.plot(x[i][0],x[i][1],'bo')\n",
    "\n",
    "    plt.show()\n"
   ]
  },
  {
   "cell_type": "code",
   "execution_count": 44,
   "id": "f8d5f105",
   "metadata": {},
   "outputs": [],
   "source": [
    "# Activative functions and their derivatives\n",
    "def sigmoid(x):\n",
    "    return 1.0 / (1.0 + np.exp(-x))\n",
    "\n",
    "\n",
    "def derivative_sigmoid(x):\n",
    "    return np.multiply(x, 1.0 - x)\n",
    "\n",
    "\n"
   ]
  },
  {
   "cell_type": "code",
   "execution_count": null,
   "id": "8d5d4ff4",
   "metadata": {},
   "outputs": [],
   "source": [
    "# Fully connected layer class\n",
    "class Linear_Layer:\n",
    "\n",
    "    def __init__(self, input_size, output_size):\n",
    "\n",
    "\n",
    "        self.input_size = input_size\n",
    "        self.output_size = output_size\n",
    "        # Initialize weights and bias (W , b)\n",
    "        # Assume that the size of input vector is  n by 1\n",
    "        # The size of weight matrix should be m by n, where m is the size of output vector\n",
    "\n",
    "        # According to the guide that TA provided, the initial weights often use a small random value\n",
    "\n",
    "        self.weights = np.random.randn(output_size, input_size) * 0.01\n",
    "        self.bias = np.zeros((output_size, 1))\n",
    "        self.input = None\n",
    "\n",
    "    #   Forward pass: y = Wx + b\n",
    "    #   Ｒegular training process\n",
    "    def forward(self, x):\n",
    "        self.input = x\n",
    "        return (np.matmul(self.weights, x) + self.bias)\n",
    "\n",
    "\n",
    "\n",
    "\n",
    "\n",
    "\n"
   ]
  },
  {
   "cell_type": "code",
   "execution_count": null,
   "id": "c8b03bbf",
   "metadata": {},
   "outputs": [
    {
     "name": "stdout",
     "output_type": "stream",
     "text": [
      "[[ 0.54510296 -0.51411106]\n",
      " [ 0.11259701  0.09565303]]\n"
     ]
    }
   ],
   "source": []
  }
 ],
 "metadata": {
  "kernelspec": {
   "display_name": "Summer_NYCU_2025_DLP",
   "language": "python",
   "name": "python3"
  },
  "language_info": {
   "codemirror_mode": {
    "name": "ipython",
    "version": 3
   },
   "file_extension": ".py",
   "mimetype": "text/x-python",
   "name": "python",
   "nbconvert_exporter": "python",
   "pygments_lexer": "ipython3",
   "version": "3.11.0"
  }
 },
 "nbformat": 4,
 "nbformat_minor": 5
}
